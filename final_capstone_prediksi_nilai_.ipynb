{
  "nbformat": 4,
  "nbformat_minor": 0,
  "metadata": {
    "colab": {
      "provenance": []
    },
    "kernelspec": {
      "name": "python3",
      "display_name": "Python 3"
    },
    "language_info": {
      "name": "python"
    }
  },
  "cells": [
    {
      "cell_type": "code",
      "execution_count": 5,
      "metadata": {
        "colab": {
          "base_uri": "https://localhost:8080/",
          "height": 631
        },
        "id": "EnoJW0RTcern",
        "outputId": "715696cb-6f5c-4c4d-db03-2b6e4f88407b"
      },
      "outputs": [
        {
          "output_type": "stream",
          "name": "stderr",
          "text": [
            "<ipython-input-5-913660cdadca>:20: FutureWarning: The default value of numeric_only in DataFrame.corr is deprecated. In a future version, it will default to False. Select only valid columns or specify the value of numeric_only to silence this warning.\n",
            "  most_correlated = stud.corr().abs()['G3'].sort_values(ascending=False)[:9]\n",
            "/usr/local/lib/python3.10/dist-packages/keras/src/engine/training.py:3079: UserWarning: You are saving your model as an HDF5 file via `model.save()`. This file format is considered legacy. We recommend using instead the native Keras format, e.g. `model.save('my_model.keras')`.\n",
            "  saving_api.save_model(\n",
            "WARNING:tensorflow:5 out of the last 13 calls to <function Model.make_predict_function.<locals>.predict_function at 0x7c5b4e268f70> triggered tf.function retracing. Tracing is expensive and the excessive number of tracings could be due to (1) creating @tf.function repeatedly in a loop, (2) passing tensors with different shapes, (3) passing Python objects instead of tensors. For (1), please define your @tf.function outside of the loop. For (2), @tf.function has reduce_retracing=True option that can avoid unnecessary retracing. For (3), please refer to https://www.tensorflow.org/guide/function#controlling_retracing and https://www.tensorflow.org/api_docs/python/tf/function for  more details.\n"
          ]
        },
        {
          "output_type": "stream",
          "name": "stdout",
          "text": [
            "3/3 [==============================] - 0s 6ms/step\n",
            "Mean Absolute Error (MAE): 0.8959\n",
            "Root Mean Squared Error (RMSE): 1.2598\n"
          ]
        },
        {
          "output_type": "display_data",
          "data": {
            "text/plain": [
              "<Figure size 640x480 with 1 Axes>"
            ],
            "image/png": "[encoded data removed]"
          },
          "metadata": {}
        }
      ],
      "source": [
        "import pandas as pd\n",
        "import numpy as np\n",
        "import matplotlib.pyplot as plt\n",
        "from sklearn.model_selection import train_test_split\n",
        "from sklearn.preprocessing import LabelEncoder\n",
        "from sklearn.metrics import mean_squared_error, mean_absolute_error\n",
        "import tensorflow as tf\n",
        "from tensorflow import keras\n",
        "from tensorflow.keras import layers\n",
        "\n",
        "# Load the dataset\n",
        "stud = pd.read_csv('student.csv')\n",
        "\n",
        "# Rename columns for better readability\n",
        "column_names = ['sex', 'age', 'Pstatus', 'Medu', 'Fedu', 'traveltime', 'studytime', 'Ssupport', 'ecactivities',\n",
        "                'internet', 'freetime', 'goout', 'health', 'absences', 'G1', 'G2', 'G3']\n",
        "stud.columns = column_names\n",
        "\n",
        "# Select the most correlated features with the target variable 'G3'\n",
        "most_correlated = stud.corr().abs()['G3'].sort_values(ascending=False)[:9]\n",
        "stud = stud[most_correlated.index]\n",
        "\n",
        "# Encode categorical variables\n",
        "le = LabelEncoder()\n",
        "stud_encoded = stud.apply(le.fit_transform)\n",
        "\n",
        "# Split the data into training and testing sets\n",
        "X_train, X_test, y_train, y_test = train_test_split(stud_encoded.drop('G3', axis=1), stud_encoded['G3'],\n",
        "                                                    test_size=0.25, random_state=42)\n",
        "\n",
        "# Build the neural network model\n",
        "model = keras.Sequential([\n",
        "    layers.Dense(64, activation='relu', input_shape=(X_train.shape[1],)),\n",
        "    layers.Dense(32, activation='relu'),\n",
        "    layers.Dense(1)\n",
        "])\n",
        "\n",
        "# Compile the model\n",
        "model.compile(optimizer='adam', loss='mean_squared_error')\n",
        "\n",
        "# Train the model\n",
        "history = model.fit(X_train, y_train, epochs=50, batch_size=32, validation_split=0.2, verbose=0)\n",
        "\n",
        "# Save the trained model to an HDF5 file\n",
        "model.save('gradePredict.h5')\n",
        "\n",
        "# Convert the Keras model to TensorFlow Lite format\n",
        "converter = tf.lite.TFLiteConverter.from_keras_model(model)\n",
        "tflite_model = converter.convert()\n",
        "\n",
        "# Save the TensorFlow Lite model to a file\n",
        "with open('gradePredict.tflite', 'wb') as f:\n",
        "    f.write(tflite_model)\n",
        "\n",
        "# Make predictions on the test set\n",
        "y_pred = model.predict(X_test).flatten()\n",
        "\n",
        "# Evaluate the model\n",
        "mae = mean_absolute_error(y_test, y_pred)\n",
        "rmse = np.sqrt(mean_squared_error(y_test, y_pred))\n",
        "\n",
        "# Print evaluation metrics\n",
        "print(f'Mean Absolute Error (MAE): {mae:.4f}')\n",
        "print(f'Root Mean Squared Error (RMSE): {rmse:.4f}')\n",
        "\n",
        "# Plot training history\n",
        "plt.plot(history.history['loss'], label='Training Loss')\n",
        "plt.plot(history.history['val_loss'], label='Validation Loss')\n",
        "plt.title('Training and Validation Loss')\n",
        "plt.xlabel('Epoch')\n",
        "plt.ylabel('Loss')\n",
        "plt.legend()\n",
        "plt.show()\n"
      ]
    },
    {
      "cell_type": "code",
      "source": [],
      "metadata": {
        "id": "lD2GPB_m_qi4"
      },
      "execution_count": null,
      "outputs": []
    },
    {
      "cell_type": "code",
      "source": [],
      "metadata": {
        "id": "zYMA2okm6A8I"
      },
      "execution_count": null,
      "outputs": []
    },
    {
      "cell_type": "code",
      "source": [
        "# Example new student's information\n",
        "new_student_info = {\n",
        "    'sex': 'female',\n",
        "    'age': 15,\n",
        "    'Pstatus': 'A',\n",
        "    'Medu': 3,\n",
        "    'Fedu': 2,\n",
        "    'traveltime': 1,\n",
        "    'studytime': 3,\n",
        "    'Ssupport': 'yes',\n",
        "    'ecactivities': 'yes',\n",
        "    'internet': 'yes',\n",
        "    'freetime': 3,\n",
        "    'goout': 2,\n",
        "    'health': 4,\n",
        "    'absences': 5,\n",
        "    'G1': 70,\n",
        "    'G2': 90\n",
        "}\n",
        "\n",
        "# Convert the dictionary to a DataFrame\n",
        "new_student_df = pd.DataFrame([new_student_info])\n",
        "\n",
        "# One-hot encode categorical variables\n",
        "new_student_encoded = pd.get_dummies(new_student_df, columns=['sex', 'Pstatus', 'Ssupport', 'ecactivities', 'internet'])\n",
        "\n",
        "# Ensure columns are in the same order as during training\n",
        "new_student_encoded = new_student_encoded[X_train.columns]\n",
        "\n",
        "# Make predictions\n",
        "new_student_prediction = model.predict(new_student_encoded).flatten()[0]\n",
        "\n",
        "# Print the predicted grade for the new student\n",
        "print(f'The predicted final grade for the new student is: {new_student_prediction:.2f}')"
      ],
      "metadata": {
        "colab": {
          "base_uri": "https://localhost:8080/"
        },
        "id": "nKBMKtsedFS7",
        "outputId": "7067fb7a-7635-483a-892d-664519d420ab"
      },
      "execution_count": null,
      "outputs": [
        {
          "output_type": "stream",
          "name": "stdout",
          "text": [
            "1/1 [==============================] - 0s 21ms/step\n",
            "The predicted final grade for the new student is: 81.63\n"
          ]
        }
      ]
    }
  ]
}