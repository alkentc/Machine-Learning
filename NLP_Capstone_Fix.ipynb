{
  "nbformat": 4,
  "nbformat_minor": 0,
  "metadata": {
    "colab": {
      "provenance": [],
      "authorship_tag": "ABX9TyMhTKXBlLl/QOOgXN2dmDBg",
      "include_colab_link": true
    },
    "kernelspec": {
      "name": "python3",
      "display_name": "Python 3"
    },
    "language_info": {
      "name": "python"
    }
  },
  "cells": [
    {
      "cell_type": "markdown",
      "metadata": {
        "id": "view-in-github",
        "colab_type": "text"
      },
      "source": [
        "<a href=\"https://colab.research.google.com/github/alkentc/Machine-Learning/blob/main/NLP_Capstone_Fix.ipynb\" target=\"_parent\"><img src=\"https://colab.research.google.com/assets/colab-badge.svg\" alt=\"Open In Colab\"/></a>"
      ]
    },
    {
      "cell_type": "code",
      "execution_count": 2,
      "metadata": {
        "colab": {
          "base_uri": "https://localhost:8080/"
        },
        "id": "StmQ52FUZDcr",
        "outputId": "272c3d8a-1954-4006-ab7e-b1ab2c75a366"
      },
      "outputs": [
        {
          "output_type": "stream",
          "name": "stdout",
          "text": [
            "Model: \"sequential\"\n",
            "_________________________________________________________________\n",
            " Layer (type)                Output Shape              Param #   \n",
            "=================================================================\n",
            " embedding (Embedding)       (None, 12, 16)            160000    \n",
            "                                                                 \n",
            " global_average_pooling1d (  (None, 16)                0         \n",
            " GlobalAveragePooling1D)                                         \n",
            "                                                                 \n",
            " dense (Dense)               (None, 6)                 102       \n",
            "                                                                 \n",
            " dense_1 (Dense)             (None, 1)                 7         \n",
            "                                                                 \n",
            "=================================================================\n",
            "Total params: 160109 (625.43 KB)\n",
            "Trainable params: 160109 (625.43 KB)\n",
            "Non-trainable params: 0 (0.00 Byte)\n",
            "_________________________________________________________________\n",
            "Epoch 1/100\n",
            "2/2 [==============================] - 2s 356ms/step - loss: 0.6860 - accuracy: 0.5261 - val_loss: 0.6862 - val_accuracy: 0.5333\n",
            "Epoch 2/100\n",
            "2/2 [==============================] - 0s 50ms/step - loss: 0.6838 - accuracy: 0.5435 - val_loss: 0.6843 - val_accuracy: 0.6333\n",
            "Epoch 3/100\n",
            "2/2 [==============================] - 0s 69ms/step - loss: 0.6815 - accuracy: 0.5652 - val_loss: 0.6822 - val_accuracy: 0.6667\n",
            "Epoch 4/100\n",
            "2/2 [==============================] - 0s 51ms/step - loss: 0.6792 - accuracy: 0.6000 - val_loss: 0.6800 - val_accuracy: 0.6667\n",
            "Epoch 5/100\n",
            "2/2 [==============================] - 0s 71ms/step - loss: 0.6768 - accuracy: 0.6348 - val_loss: 0.6777 - val_accuracy: 0.6667\n",
            "Epoch 6/100\n",
            "2/2 [==============================] - 0s 47ms/step - loss: 0.6743 - accuracy: 0.6609 - val_loss: 0.6754 - val_accuracy: 0.7000\n",
            "Epoch 7/100\n",
            "2/2 [==============================] - 0s 64ms/step - loss: 0.6718 - accuracy: 0.6739 - val_loss: 0.6730 - val_accuracy: 0.7333\n",
            "Epoch 8/100\n",
            "2/2 [==============================] - 0s 73ms/step - loss: 0.6692 - accuracy: 0.6913 - val_loss: 0.6707 - val_accuracy: 0.7333\n",
            "Epoch 9/100\n",
            "2/2 [==============================] - 0s 69ms/step - loss: 0.6664 - accuracy: 0.7348 - val_loss: 0.6683 - val_accuracy: 0.7333\n",
            "Epoch 10/100\n",
            "2/2 [==============================] - 0s 74ms/step - loss: 0.6637 - accuracy: 0.7478 - val_loss: 0.6657 - val_accuracy: 0.8000\n",
            "Epoch 11/100\n",
            "2/2 [==============================] - 0s 37ms/step - loss: 0.6608 - accuracy: 0.7696 - val_loss: 0.6632 - val_accuracy: 0.8000\n",
            "Epoch 12/100\n",
            "2/2 [==============================] - 0s 35ms/step - loss: 0.6578 - accuracy: 0.7783 - val_loss: 0.6605 - val_accuracy: 0.8000\n",
            "Epoch 13/100\n",
            "2/2 [==============================] - 0s 43ms/step - loss: 0.6547 - accuracy: 0.7826 - val_loss: 0.6577 - val_accuracy: 0.8000\n",
            "Epoch 14/100\n",
            "2/2 [==============================] - 0s 53ms/step - loss: 0.6517 - accuracy: 0.8130 - val_loss: 0.6548 - val_accuracy: 0.8000\n",
            "Epoch 15/100\n",
            "2/2 [==============================] - 0s 37ms/step - loss: 0.6484 - accuracy: 0.8304 - val_loss: 0.6519 - val_accuracy: 0.8333\n",
            "Epoch 16/100\n",
            "2/2 [==============================] - 0s 35ms/step - loss: 0.6450 - accuracy: 0.8348 - val_loss: 0.6488 - val_accuracy: 0.8333\n",
            "Epoch 17/100\n",
            "2/2 [==============================] - 0s 42ms/step - loss: 0.6416 - accuracy: 0.8391 - val_loss: 0.6457 - val_accuracy: 0.8333\n",
            "Epoch 18/100\n",
            "2/2 [==============================] - 0s 36ms/step - loss: 0.6380 - accuracy: 0.8435 - val_loss: 0.6425 - val_accuracy: 0.8667\n",
            "Epoch 19/100\n",
            "2/2 [==============================] - 0s 34ms/step - loss: 0.6343 - accuracy: 0.8522 - val_loss: 0.6392 - val_accuracy: 0.8667\n",
            "Epoch 20/100\n",
            "2/2 [==============================] - 0s 53ms/step - loss: 0.6306 - accuracy: 0.8522 - val_loss: 0.6358 - val_accuracy: 0.8667\n",
            "Epoch 21/100\n",
            "2/2 [==============================] - 0s 36ms/step - loss: 0.6267 - accuracy: 0.8565 - val_loss: 0.6322 - val_accuracy: 0.8667\n",
            "Epoch 22/100\n",
            "2/2 [==============================] - 0s 43ms/step - loss: 0.6227 - accuracy: 0.8652 - val_loss: 0.6286 - val_accuracy: 0.8667\n",
            "Epoch 23/100\n",
            "2/2 [==============================] - 0s 36ms/step - loss: 0.6186 - accuracy: 0.8652 - val_loss: 0.6249 - val_accuracy: 0.8667\n",
            "Epoch 24/100\n",
            "2/2 [==============================] - 0s 39ms/step - loss: 0.6143 - accuracy: 0.8696 - val_loss: 0.6211 - val_accuracy: 0.8667\n",
            "Epoch 25/100\n",
            "2/2 [==============================] - 0s 59ms/step - loss: 0.6099 - accuracy: 0.8696 - val_loss: 0.6172 - val_accuracy: 0.9000\n",
            "Epoch 26/100\n",
            "2/2 [==============================] - 0s 61ms/step - loss: 0.6055 - accuracy: 0.8739 - val_loss: 0.6131 - val_accuracy: 0.9000\n",
            "Epoch 27/100\n",
            "2/2 [==============================] - 0s 36ms/step - loss: 0.6009 - accuracy: 0.8739 - val_loss: 0.6090 - val_accuracy: 0.9000\n",
            "Epoch 28/100\n",
            "2/2 [==============================] - 0s 35ms/step - loss: 0.5963 - accuracy: 0.8739 - val_loss: 0.6047 - val_accuracy: 0.9000\n",
            "Epoch 29/100\n",
            "2/2 [==============================] - 0s 38ms/step - loss: 0.5914 - accuracy: 0.8826 - val_loss: 0.6004 - val_accuracy: 0.9000\n",
            "Epoch 30/100\n",
            "2/2 [==============================] - 0s 36ms/step - loss: 0.5865 - accuracy: 0.8870 - val_loss: 0.5959 - val_accuracy: 0.9000\n",
            "Epoch 31/100\n",
            "2/2 [==============================] - 0s 34ms/step - loss: 0.5815 - accuracy: 0.8870 - val_loss: 0.5914 - val_accuracy: 0.9000\n",
            "Epoch 32/100\n",
            "2/2 [==============================] - 0s 39ms/step - loss: 0.5763 - accuracy: 0.8870 - val_loss: 0.5868 - val_accuracy: 0.9000\n",
            "Epoch 33/100\n",
            "2/2 [==============================] - 0s 53ms/step - loss: 0.5711 - accuracy: 0.8870 - val_loss: 0.5820 - val_accuracy: 0.9000\n",
            "Epoch 34/100\n",
            "2/2 [==============================] - 0s 36ms/step - loss: 0.5658 - accuracy: 0.8870 - val_loss: 0.5772 - val_accuracy: 0.9000\n",
            "Epoch 35/100\n",
            "2/2 [==============================] - 0s 54ms/step - loss: 0.5604 - accuracy: 0.8913 - val_loss: 0.5723 - val_accuracy: 0.9000\n",
            "Epoch 36/100\n",
            "2/2 [==============================] - 0s 44ms/step - loss: 0.5549 - accuracy: 0.8913 - val_loss: 0.5673 - val_accuracy: 0.9000\n",
            "Epoch 37/100\n",
            "2/2 [==============================] - 0s 37ms/step - loss: 0.5493 - accuracy: 0.8957 - val_loss: 0.5622 - val_accuracy: 0.9000\n",
            "Epoch 38/100\n",
            "2/2 [==============================] - 0s 55ms/step - loss: 0.5436 - accuracy: 0.8957 - val_loss: 0.5570 - val_accuracy: 0.9000\n",
            "Epoch 39/100\n",
            "2/2 [==============================] - 0s 35ms/step - loss: 0.5378 - accuracy: 0.8957 - val_loss: 0.5517 - val_accuracy: 0.9000\n",
            "Epoch 40/100\n",
            "2/2 [==============================] - 0s 35ms/step - loss: 0.5320 - accuracy: 0.9000 - val_loss: 0.5464 - val_accuracy: 0.9000\n",
            "Epoch 41/100\n",
            "2/2 [==============================] - 0s 34ms/step - loss: 0.5261 - accuracy: 0.9043 - val_loss: 0.5409 - val_accuracy: 0.9000\n",
            "Epoch 42/100\n",
            "2/2 [==============================] - 0s 37ms/step - loss: 0.5201 - accuracy: 0.9043 - val_loss: 0.5355 - val_accuracy: 0.9000\n",
            "Epoch 43/100\n",
            "2/2 [==============================] - 0s 38ms/step - loss: 0.5141 - accuracy: 0.9043 - val_loss: 0.5299 - val_accuracy: 0.9000\n",
            "Epoch 44/100\n",
            "2/2 [==============================] - 0s 56ms/step - loss: 0.5079 - accuracy: 0.9043 - val_loss: 0.5243 - val_accuracy: 0.9000\n",
            "Epoch 45/100\n",
            "2/2 [==============================] - 0s 37ms/step - loss: 0.5018 - accuracy: 0.9043 - val_loss: 0.5186 - val_accuracy: 0.9000\n",
            "Epoch 46/100\n",
            "2/2 [==============================] - 0s 34ms/step - loss: 0.4955 - accuracy: 0.9087 - val_loss: 0.5129 - val_accuracy: 0.9000\n",
            "Epoch 47/100\n",
            "2/2 [==============================] - 0s 55ms/step - loss: 0.4893 - accuracy: 0.9174 - val_loss: 0.5072 - val_accuracy: 0.9000\n",
            "Epoch 48/100\n",
            "2/2 [==============================] - 0s 37ms/step - loss: 0.4829 - accuracy: 0.9174 - val_loss: 0.5014 - val_accuracy: 0.9000\n",
            "Epoch 49/100\n",
            "2/2 [==============================] - 0s 37ms/step - loss: 0.4766 - accuracy: 0.9174 - val_loss: 0.4955 - val_accuracy: 0.9000\n",
            "Epoch 50/100\n",
            "2/2 [==============================] - 0s 36ms/step - loss: 0.4701 - accuracy: 0.9217 - val_loss: 0.4896 - val_accuracy: 0.9000\n",
            "Epoch 51/100\n",
            "2/2 [==============================] - 0s 59ms/step - loss: 0.4637 - accuracy: 0.9217 - val_loss: 0.4837 - val_accuracy: 0.9000\n",
            "Epoch 52/100\n",
            "2/2 [==============================] - 0s 54ms/step - loss: 0.4572 - accuracy: 0.9217 - val_loss: 0.4778 - val_accuracy: 0.9000\n",
            "Epoch 53/100\n",
            "2/2 [==============================] - 0s 34ms/step - loss: 0.4506 - accuracy: 0.9304 - val_loss: 0.4718 - val_accuracy: 0.9000\n",
            "Epoch 54/100\n",
            "2/2 [==============================] - 0s 35ms/step - loss: 0.4441 - accuracy: 0.9304 - val_loss: 0.4658 - val_accuracy: 0.9000\n",
            "Epoch 55/100\n",
            "2/2 [==============================] - 0s 36ms/step - loss: 0.4375 - accuracy: 0.9304 - val_loss: 0.4598 - val_accuracy: 0.9000\n",
            "Epoch 56/100\n",
            "2/2 [==============================] - 0s 37ms/step - loss: 0.4311 - accuracy: 0.9304 - val_loss: 0.4538 - val_accuracy: 0.9000\n",
            "Epoch 57/100\n",
            "2/2 [==============================] - 0s 54ms/step - loss: 0.4244 - accuracy: 0.9304 - val_loss: 0.4478 - val_accuracy: 0.9000\n",
            "Epoch 58/100\n",
            "2/2 [==============================] - 0s 53ms/step - loss: 0.4178 - accuracy: 0.9304 - val_loss: 0.4417 - val_accuracy: 0.9000\n",
            "Epoch 59/100\n",
            "2/2 [==============================] - 0s 37ms/step - loss: 0.4112 - accuracy: 0.9348 - val_loss: 0.4357 - val_accuracy: 0.9000\n",
            "Epoch 60/100\n",
            "2/2 [==============================] - 0s 56ms/step - loss: 0.4047 - accuracy: 0.9348 - val_loss: 0.4296 - val_accuracy: 0.9000\n",
            "Epoch 61/100\n",
            "2/2 [==============================] - 0s 52ms/step - loss: 0.3982 - accuracy: 0.9391 - val_loss: 0.4235 - val_accuracy: 0.9000\n",
            "Epoch 62/100\n",
            "2/2 [==============================] - 0s 46ms/step - loss: 0.3916 - accuracy: 0.9391 - val_loss: 0.4175 - val_accuracy: 0.9000\n",
            "Epoch 63/100\n",
            "2/2 [==============================] - 0s 34ms/step - loss: 0.3851 - accuracy: 0.9435 - val_loss: 0.4115 - val_accuracy: 0.9333\n",
            "Epoch 64/100\n",
            "2/2 [==============================] - 0s 35ms/step - loss: 0.3785 - accuracy: 0.9435 - val_loss: 0.4055 - val_accuracy: 0.9333\n",
            "Epoch 65/100\n",
            "2/2 [==============================] - 0s 36ms/step - loss: 0.3722 - accuracy: 0.9435 - val_loss: 0.3995 - val_accuracy: 0.9333\n",
            "Epoch 66/100\n",
            "2/2 [==============================] - 0s 35ms/step - loss: 0.3658 - accuracy: 0.9435 - val_loss: 0.3936 - val_accuracy: 0.9333\n",
            "Epoch 67/100\n",
            "2/2 [==============================] - 0s 53ms/step - loss: 0.3595 - accuracy: 0.9435 - val_loss: 0.3877 - val_accuracy: 0.9333\n",
            "Epoch 68/100\n",
            "2/2 [==============================] - 0s 36ms/step - loss: 0.3531 - accuracy: 0.9435 - val_loss: 0.3818 - val_accuracy: 0.9667\n",
            "Epoch 69/100\n",
            "2/2 [==============================] - 0s 37ms/step - loss: 0.3468 - accuracy: 0.9522 - val_loss: 0.3760 - val_accuracy: 0.9667\n",
            "Epoch 70/100\n",
            "2/2 [==============================] - 0s 36ms/step - loss: 0.3406 - accuracy: 0.9522 - val_loss: 0.3702 - val_accuracy: 0.9667\n",
            "Epoch 71/100\n",
            "2/2 [==============================] - 0s 36ms/step - loss: 0.3344 - accuracy: 0.9522 - val_loss: 0.3645 - val_accuracy: 0.9667\n",
            "Epoch 72/100\n",
            "2/2 [==============================] - 0s 36ms/step - loss: 0.3282 - accuracy: 0.9522 - val_loss: 0.3588 - val_accuracy: 0.9667\n",
            "Epoch 73/100\n",
            "2/2 [==============================] - 0s 38ms/step - loss: 0.3222 - accuracy: 0.9522 - val_loss: 0.3531 - val_accuracy: 0.9667\n",
            "Epoch 74/100\n",
            "2/2 [==============================] - 0s 39ms/step - loss: 0.3161 - accuracy: 0.9522 - val_loss: 0.3475 - val_accuracy: 0.9667\n",
            "Epoch 75/100\n",
            "2/2 [==============================] - 0s 37ms/step - loss: 0.3102 - accuracy: 0.9565 - val_loss: 0.3420 - val_accuracy: 0.9667\n",
            "Epoch 76/100\n",
            "2/2 [==============================] - 0s 54ms/step - loss: 0.3043 - accuracy: 0.9565 - val_loss: 0.3365 - val_accuracy: 0.9667\n",
            "Epoch 77/100\n",
            "2/2 [==============================] - 0s 39ms/step - loss: 0.2985 - accuracy: 0.9652 - val_loss: 0.3311 - val_accuracy: 0.9667\n",
            "Epoch 78/100\n",
            "2/2 [==============================] - 0s 36ms/step - loss: 0.2927 - accuracy: 0.9652 - val_loss: 0.3258 - val_accuracy: 0.9667\n",
            "Epoch 79/100\n",
            "2/2 [==============================] - 0s 39ms/step - loss: 0.2870 - accuracy: 0.9696 - val_loss: 0.3205 - val_accuracy: 0.9667\n",
            "Epoch 80/100\n",
            "2/2 [==============================] - 0s 37ms/step - loss: 0.2813 - accuracy: 0.9696 - val_loss: 0.3153 - val_accuracy: 0.9667\n",
            "Epoch 81/100\n",
            "2/2 [==============================] - 0s 58ms/step - loss: 0.2757 - accuracy: 0.9696 - val_loss: 0.3102 - val_accuracy: 0.9667\n",
            "Epoch 82/100\n",
            "2/2 [==============================] - 0s 36ms/step - loss: 0.2703 - accuracy: 0.9696 - val_loss: 0.3051 - val_accuracy: 0.9667\n",
            "Epoch 83/100\n",
            "2/2 [==============================] - 0s 174ms/step - loss: 0.2649 - accuracy: 0.9739 - val_loss: 0.3001 - val_accuracy: 0.9667\n",
            "Epoch 84/100\n",
            "2/2 [==============================] - 0s 141ms/step - loss: 0.2596 - accuracy: 0.9739 - val_loss: 0.2952 - val_accuracy: 0.9667\n",
            "Epoch 85/100\n",
            "2/2 [==============================] - 0s 92ms/step - loss: 0.2543 - accuracy: 0.9739 - val_loss: 0.2904 - val_accuracy: 0.9667\n",
            "Epoch 86/100\n",
            "2/2 [==============================] - 0s 36ms/step - loss: 0.2491 - accuracy: 0.9783 - val_loss: 0.2856 - val_accuracy: 0.9667\n",
            "Epoch 87/100\n",
            "2/2 [==============================] - 0s 35ms/step - loss: 0.2440 - accuracy: 0.9783 - val_loss: 0.2809 - val_accuracy: 0.9667\n",
            "Epoch 88/100\n",
            "2/2 [==============================] - 0s 34ms/step - loss: 0.2391 - accuracy: 0.9783 - val_loss: 0.2763 - val_accuracy: 0.9667\n",
            "Epoch 89/100\n",
            "2/2 [==============================] - 0s 34ms/step - loss: 0.2341 - accuracy: 0.9783 - val_loss: 0.2718 - val_accuracy: 0.9667\n",
            "Epoch 90/100\n",
            "2/2 [==============================] - 0s 36ms/step - loss: 0.2293 - accuracy: 0.9783 - val_loss: 0.2674 - val_accuracy: 0.9667\n",
            "Epoch 91/100\n",
            "2/2 [==============================] - 0s 38ms/step - loss: 0.2245 - accuracy: 0.9783 - val_loss: 0.2630 - val_accuracy: 0.9667\n",
            "Epoch 92/100\n",
            "2/2 [==============================] - 0s 36ms/step - loss: 0.2199 - accuracy: 0.9783 - val_loss: 0.2587 - val_accuracy: 0.9667\n",
            "Epoch 93/100\n",
            "2/2 [==============================] - 0s 35ms/step - loss: 0.2153 - accuracy: 0.9783 - val_loss: 0.2545 - val_accuracy: 0.9667\n",
            "Epoch 94/100\n",
            "2/2 [==============================] - 0s 46ms/step - loss: 0.2108 - accuracy: 0.9826 - val_loss: 0.2504 - val_accuracy: 0.9667\n",
            "Epoch 95/100\n",
            "2/2 [==============================] - 0s 200ms/step - loss: 0.2064 - accuracy: 0.9826 - val_loss: 0.2463 - val_accuracy: 0.9667\n",
            "Epoch 96/100\n",
            "2/2 [==============================] - 0s 151ms/step - loss: 0.2020 - accuracy: 0.9826 - val_loss: 0.2423 - val_accuracy: 0.9667\n",
            "Epoch 97/100\n",
            "2/2 [==============================] - 0s 79ms/step - loss: 0.1978 - accuracy: 0.9826 - val_loss: 0.2384 - val_accuracy: 0.9667\n",
            "Epoch 98/100\n",
            "2/2 [==============================] - 0s 40ms/step - loss: 0.1937 - accuracy: 0.9826 - val_loss: 0.2346 - val_accuracy: 0.9667\n",
            "Epoch 99/100\n",
            "2/2 [==============================] - 0s 54ms/step - loss: 0.1896 - accuracy: 0.9826 - val_loss: 0.2309 - val_accuracy: 0.9667\n",
            "Epoch 100/100\n",
            "2/2 [==============================] - 0s 36ms/step - loss: 0.1856 - accuracy: 0.9826 - val_loss: 0.2272 - val_accuracy: 0.9667\n"
          ]
        },
        {
          "output_type": "execute_result",
          "data": {
            "text/plain": [
              "<keras.src.callbacks.History at 0x7813c30ae2c0>"
            ]
          },
          "metadata": {},
          "execution_count": 2
        }
      ],
      "source": [
        "import numpy as np\n",
        "import pandas as pd\n",
        "import tensorflow as tf\n",
        "from tensorflow.keras.preprocessing.text import Tokenizer\n",
        "from tensorflow.keras.preprocessing.sequence import pad_sequences\n",
        "\n",
        "df = pd.read_csv('Dataset NLP Fix.csv')\n",
        "sentences = df['Review'].to_numpy()\n",
        "labels = df['Label'].to_numpy()\n",
        "\n",
        "training_sentences = sentences[:230]\n",
        "training_labels = labels[:230]\n",
        "\n",
        "validation_sentences = sentences[230:]\n",
        "validation_labels = labels[230:]\n",
        "\n",
        "vocab_size = 10000\n",
        "embedding_dim = 16\n",
        "max_length = 12\n",
        "trunc_type = 'post'\n",
        "oov_tok = '<OOV>'\n",
        "\n",
        "tokenizer = Tokenizer(num_words=vocab_size, oov_token=oov_tok)\n",
        "tokenizer.fit_on_texts(training_sentences)\n",
        "sequences = tokenizer.texts_to_sequences(training_sentences)\n",
        "padded = pad_sequences(sequences, maxlen=max_length, truncating=trunc_type)\n",
        "validation_sequences = tokenizer.texts_to_sequences(validation_sentences)\n",
        "validation_padded = pad_sequences(validation_sequences, maxlen=max_length, truncating=trunc_type)\n",
        "\n",
        "model = tf.keras.Sequential([\n",
        "        tf.keras.layers.Embedding(vocab_size, embedding_dim, input_length=max_length),\n",
        "        tf.keras.layers.GlobalAveragePooling1D(),\n",
        "        tf.keras.layers.Dense(6, activation='relu'),\n",
        "        tf.keras.layers.Dense(1, activation='sigmoid')\n",
        "])\n",
        "model.summary()\n",
        "model.compile(loss='binary_crossentropy', optimizer=tf.keras.optimizers.Adam(learning_rate=0.001), metrics=['accuracy'])\n",
        "model.fit(padded, training_labels, batch_size=128, epochs=100, validation_data=(validation_padded, validation_labels))\n",
        "\n"
      ]
    },
    {
      "cell_type": "code",
      "source": [
        "export_dir = 'saved_model/1'\n",
        "tf.saved_model.save(model, export_dir)"
      ],
      "metadata": {
        "id": "WIjMVaETZNPG"
      },
      "execution_count": 3,
      "outputs": []
    },
    {
      "cell_type": "code",
      "source": [
        "converter = tf.lite.TFLiteConverter.from_saved_model(export_dir)\n",
        "tflite_model = converter.convert()"
      ],
      "metadata": {
        "id": "ZkGFL2Opp698"
      },
      "execution_count": 4,
      "outputs": []
    },
    {
      "cell_type": "code",
      "source": [
        "import pathlib\n",
        "tflite_model_file = pathlib.Path('Review Siswa ke Guru Model.tflite')\n",
        "tflite_model_file.write_bytes(tflite_model)"
      ],
      "metadata": {
        "colab": {
          "base_uri": "https://localhost:8080/"
        },
        "id": "omRTM7iqp8vi",
        "outputId": "512f0529-e2ef-4d5f-88b1-ceca8ce69533"
      },
      "execution_count": 9,
      "outputs": [
        {
          "output_type": "execute_result",
          "data": {
            "text/plain": [
              "642920"
            ]
          },
          "metadata": {},
          "execution_count": 9
        }
      ]
    },
    {
      "cell_type": "code",
      "source": [
        "try:\n",
        "    from google.colab import files\n",
        "    files.download(tflite_model_file)\n",
        "except:\n",
        "    pass"
      ],
      "metadata": {
        "colab": {
          "base_uri": "https://localhost:8080/",
          "height": 17
        },
        "id": "5uJckPxUqPbR",
        "outputId": "078bade3-f270-492e-8eef-fd9b86a84cc8"
      },
      "execution_count": 10,
      "outputs": [
        {
          "output_type": "display_data",
          "data": {
            "text/plain": [
              "<IPython.core.display.Javascript object>"
            ],
            "application/javascript": [
              "\n",
              "    async function download(id, filename, size) {\n",
              "      if (!google.colab.kernel.accessAllowed) {\n",
              "        return;\n",
              "      }\n",
              "      const div = document.createElement('div');\n",
              "      const label = document.createElement('label');\n",
              "      label.textContent = `Downloading \"${filename}\": `;\n",
              "      div.appendChild(label);\n",
              "      const progress = document.createElement('progress');\n",
              "      progress.max = size;\n",
              "      div.appendChild(progress);\n",
              "      document.body.appendChild(div);\n",
              "\n",
              "      const buffers = [];\n",
              "      let downloaded = 0;\n",
              "\n",
              "      const channel = await google.colab.kernel.comms.open(id);\n",
              "      // Send a message to notify the kernel that we're ready.\n",
              "      channel.send({})\n",
              "\n",
              "      for await (const message of channel.messages) {\n",
              "        // Send a message to notify the kernel that we're ready.\n",
              "        channel.send({})\n",
              "        if (message.buffers) {\n",
              "          for (const buffer of message.buffers) {\n",
              "            buffers.push(buffer);\n",
              "            downloaded += buffer.byteLength;\n",
              "            progress.value = downloaded;\n",
              "          }\n",
              "        }\n",
              "      }\n",
              "      const blob = new Blob(buffers, {type: 'application/binary'});\n",
              "      const a = document.createElement('a');\n",
              "      a.href = window.URL.createObjectURL(blob);\n",
              "      a.download = filename;\n",
              "      div.appendChild(a);\n",
              "      a.click();\n",
              "      div.remove();\n",
              "    }\n",
              "  "
            ]
          },
          "metadata": {}
        },
        {
          "output_type": "display_data",
          "data": {
            "text/plain": [
              "<IPython.core.display.Javascript object>"
            ],
            "application/javascript": [
              "download(\"download_c7d149c8-1d00-4658-ba30-c86449a6fcff\", \"Review Siswa ke Guru Model.tflite\", 642920)"
            ]
          },
          "metadata": {}
        }
      ]
    }
  ]
}